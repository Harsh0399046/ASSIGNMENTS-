{
 "cells": [
  {
   "cell_type": "markdown",
   "id": "a5bde8c4",
   "metadata": {},
   "source": [
    "# 01 - Write a python program to sum of the first n positive integers "
   ]
  },
  {
   "cell_type": "code",
   "execution_count": 54,
   "id": "d890351d",
   "metadata": {},
   "outputs": [
    {
     "name": "stdout",
     "output_type": "stream",
     "text": [
      "enter a number : 69\n",
      "sum is         : 2415.0\n"
     ]
    }
   ],
   "source": [
    "\n",
    "n = int(input(\"enter a number : \"))\n",
    "\n",
    "sum = (n*(n+1))/2\n",
    "\n",
    "print(\"sum is         :\",sum)\n"
   ]
  },
  {
   "cell_type": "markdown",
   "id": "f2b55f28",
   "metadata": {},
   "source": [
    "# 02 -  Write a Python program to count occurrences of a substring in a string"
   ]
  },
  {
   "cell_type": "code",
   "execution_count": 69,
   "id": "08545670",
   "metadata": {},
   "outputs": [
    {
     "name": "stdout",
     "output_type": "stream",
     "text": [
      "enter a string :  Write a Python program to count occurrences of a substring in a string\n",
      "enter a substring : i\n",
      "substring ocuurs : 4\n"
     ]
    }
   ],
   "source": [
    "\n",
    "my_string = input(\"enter a string : \")\n",
    "\n",
    "my_substring = input(\"enter a substring : \")\n",
    "\n",
    "my_count =my_string.count(my_substring)\n",
    "\n",
    "print(\"substring ocuurs : %d\" % my_count)\n"
   ]
  },
  {
   "cell_type": "markdown",
   "id": "d6587ce9",
   "metadata": {},
   "source": [
    "# 03 - Write a Python program to count the occurrences of each word in a given sentence."
   ]
  },
  {
   "cell_type": "code",
   "execution_count": 4,
   "id": "4b3e4936",
   "metadata": {},
   "outputs": [
    {
     "name": "stdout",
     "output_type": "stream",
     "text": [
      "enter a sentence :  Write a Python program to count the occurrences of each word in a given sentence\n",
      "Write present  1 time \n",
      "a present  2 time \n",
      "Python present  1 time \n",
      "program present  1 time \n",
      "to present  1 time \n",
      "count present  1 time \n",
      "the present  1 time \n",
      "occurrences present  1 time \n",
      "of present  1 time \n",
      "each present  1 time \n",
      "word present  1 time \n",
      "in present  1 time \n",
      "a present  2 time \n",
      "given present  1 time \n",
      "sentence present  1 time \n"
     ]
    }
   ],
   "source": [
    "str = input(\"enter a sentence : \")\n",
    "str = str.split()\n",
    "i = 0\n",
    "count = 0\n",
    "while i<len(str):\n",
    "    count = 0\n",
    "    for j in str:\n",
    "       if str[i]==j:\n",
    "        count = count+1\n",
    "    print(str[i],\"present \",count,\"time \")\n",
    "        \n",
    "    i=i+1"
   ]
  },
  {
   "cell_type": "markdown",
   "id": "2fc6e1c7",
   "metadata": {},
   "source": [
    "# 04 - Write a Python program to get a single string from two given strings, separated by a space and swap the first two characters of each string"
   ]
  },
  {
   "cell_type": "code",
   "execution_count": 3,
   "id": "bfb3e2f7",
   "metadata": {},
   "outputs": [
    {
     "name": "stdout",
     "output_type": "stream",
     "text": [
      "enter a first string : java\n",
      "enter a second string : python\n",
      "first string has become :  pyja\n",
      "second string has become :  japy\n"
     ]
    }
   ],
   "source": [
    "str1=input(\"enter a first string : \")\n",
    "str2=input(\"enter a second string : \")\n",
    "\n",
    "x = str2[:2] + str1[:2]\n",
    "y = str1[:2] + str2[:2]\n",
    "\n",
    "print(\"first string has become : \",x)\n",
    "print(\"second string has become : \",y)"
   ]
  },
  {
   "cell_type": "markdown",
   "id": "7636a739",
   "metadata": {},
   "source": [
    "# 05 - Write a Python program to add 'ing' at the end of a given string (length should be at least 3).If the given string already ends with 'ing' then add 'ly' instead If the string length of the given string is less than 3, leave it unchanged"
   ]
  },
  {
   "cell_type": "code",
   "execution_count": 1,
   "id": "bbea7464",
   "metadata": {},
   "outputs": [
    {
     "name": "stdout",
     "output_type": "stream",
     "text": [
      "abcding\n"
     ]
    }
   ],
   "source": [
    "s = \"abcd\"\n",
    "\n",
    "if len(s) > 2 :\n",
    "    \n",
    "    if s.endswith('ing'):\n",
    "        \n",
    "        s += 'ly'\n",
    "        \n",
    "    else :\n",
    "        \n",
    "        s += 'ing'\n",
    "            \n",
    "print(s)"
   ]
  },
  {
   "cell_type": "markdown",
   "id": "95b10e83",
   "metadata": {},
   "source": [
    "# 06 - Write a Python program to find the first appearance of the substring 'not' and 'poor' from a given string, if 'not' follows the 'poor', replace the whole 'not'...'poor' substring with 'good'.Return the resulting string\n",
    "\n"
   ]
  },
  {
   "cell_type": "code",
   "execution_count": 53,
   "id": "6fa870cb",
   "metadata": {},
   "outputs": [
    {
     "name": "stdout",
     "output_type": "stream",
     "text": [
      "the person is good\n",
      "the pearson is poor\n"
     ]
    }
   ],
   "source": [
    "def not_poor(str1):\n",
    "    snot = str1.find('not')\n",
    "    spoor = str1.find('poor')\n",
    "9    \n",
    "    if spoor > snot and snot>0 and spoor>0:\n",
    "        str1 = str1.replace(str1[snot:(spoor+4)], 'good')\n",
    "        return str1\n",
    "    else:\n",
    "        return str1\n",
    "    \n",
    "print(not_poor('the person is not that poor'))    \n",
    "print(not_poor('the pearson is poor'))        "
   ]
  },
  {
   "cell_type": "markdown",
   "id": "7ed4b46c",
   "metadata": {},
   "source": [
    "# 07 - Program to find Greatest Common Divisor of two numbers.For example, the GCD of 20 and 28 is 4 and GCD of 98 and 56 is 14"
   ]
  },
  {
   "cell_type": "code",
   "execution_count": 5,
   "id": "d797062a",
   "metadata": {},
   "outputs": [
    {
     "name": "stdout",
     "output_type": "stream",
     "text": [
      "GCD of 13 and 48 is 1\n"
     ]
    }
   ],
   "source": [
    "def gcd(a, b):\n",
    "    result = min(a, b)\n",
    "    \n",
    "    while result:\n",
    "        if a % result == 0 and b % result ==0:\n",
    "            break\n",
    "        result -= 1\n",
    "    return result\n",
    "a = 13\n",
    "b = 48\n",
    "print(f\"GCD of {a} and {b} is {gcd(a, b)}\")"
   ]
  },
  {
   "cell_type": "markdown",
   "id": "7a9d468d",
   "metadata": {},
   "source": [
    "# 08 - Write a Python program to check whether a list contains a sublist"
   ]
  },
  {
   "cell_type": "code",
   "execution_count": null,
   "id": "1bea6aba",
   "metadata": {},
   "outputs": [],
   "source": []
  },
  {
   "cell_type": "markdown",
   "id": "98bc3147",
   "metadata": {},
   "source": [
    "# "
   ]
  }
 ],
 "metadata": {
  "kernelspec": {
   "display_name": "Python 3 (ipykernel)",
   "language": "python",
   "name": "python3"
  },
  "language_info": {
   "codemirror_mode": {
    "name": "ipython",
    "version": 3
   },
   "file_extension": ".py",
   "mimetype": "text/x-python",
   "name": "python",
   "nbconvert_exporter": "python",
   "pygments_lexer": "ipython3",
   "version": "3.9.13"
  }
 },
 "nbformat": 4,
 "nbformat_minor": 5
}
