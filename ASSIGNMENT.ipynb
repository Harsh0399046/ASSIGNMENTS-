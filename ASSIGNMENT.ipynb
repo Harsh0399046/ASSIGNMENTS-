{
 "cells": [
  {
   "cell_type": "markdown",
   "id": "a5bde8c4",
   "metadata": {},
   "source": [
    "# 01 - Write a python program to sum of the first n positive integers "
   ]
  },
  {
   "cell_type": "code",
   "execution_count": 54,
   "id": "d890351d",
   "metadata": {},
   "outputs": [
    {
     "name": "stdout",
     "output_type": "stream",
     "text": [
      "enter a number : 69\n",
      "sum is         : 2415.0\n"
     ]
    }
   ],
   "source": [
    "\n",
    "n = int(input(\"enter a number : \"))\n",
    "\n",
    "sum = (n*(n+1))/2\n",
    "\n",
    "print(\"sum is         :\",sum)\n"
   ]
  },
  {
   "cell_type": "markdown",
   "id": "f2b55f28",
   "metadata": {},
   "source": [
    "# 02 -  Write a Python program to count occurrences of a substring in a string"
   ]
  },
  {
   "cell_type": "code",
   "execution_count": 69,
   "id": "08545670",
   "metadata": {},
   "outputs": [
    {
     "name": "stdout",
     "output_type": "stream",
     "text": [
      "enter a string :  Write a Python program to count occurrences of a substring in a string\n",
      "enter a substring : i\n",
      "substring ocuurs : 4\n"
     ]
    }
   ],
   "source": [
    "\n",
    "my_string = input(\"enter a string : \")\n",
    "\n",
    "my_substring = input(\"enter a substring : \")\n",
    "\n",
    "my_count =my_string.count(my_substring)\n",
    "\n",
    "print(\"substring ocuurs : %d\" % my_count)\n"
   ]
  },
  {
   "cell_type": "markdown",
   "id": "d6587ce9",
   "metadata": {},
   "source": [
    "# 03 - Write a Python program to count the occurrences of each word in a given sentence."
   ]
  },
  {
   "cell_type": "code",
   "execution_count": 70,
   "id": "e2d86851",
   "metadata": {},
   "outputs": [
    {
     "name": "stdout",
     "output_type": "stream",
     "text": [
      "enter a sentence : Write a Python program to count the occurrences of each word in a given sentence\n",
      "Write present  1 time \n",
      "a present  2 time \n",
      "Python present  1 time \n",
      "program present  1 time \n",
      "to present  1 time \n",
      "count present  1 time \n",
      "the present  1 time \n",
      "occurrences present  1 time \n",
      "of present  1 time \n",
      "each present  1 time \n",
      "word present  1 time \n",
      "in present  1 time \n",
      "a present  2 time \n",
      "given present  1 time \n",
      "sentence present  1 time \n"
     ]
    }
   ],
   "source": [
    "str = input(\"enter a sentence : \")\n",
    "str = str.split()\n",
    "i = 0\n",
    "count = 0\n",
    "while i<len(str):\n",
    "    count = 0\n",
    "    for j in str:\n",
    "       if str[i]==j:\n",
    "        count = count+1\n",
    "    print(str[i],\"present \",count,\"time \")\n",
    "        \n",
    "    i=i+1\n"
   ]
  },
  {
   "cell_type": "markdown",
   "id": "1c7f24a8",
   "metadata": {},
   "source": [
    "# 04 - Write a Python program to add 'ing' at the end of a given string (length should be at least 3).If the given string already ends with 'ing' then add 'ly' instead If the string length of the given string is less than 3, leave it unchanged\n"
   ]
  },
  {
   "cell_type": "code",
   "execution_count": null,
   "id": "bbea7464",
   "metadata": {},
   "outputs": [],
   "source": [
    "s = \"abcd\"\n",
    "\n",
    "if len(s) > 2 :\n",
    "    \n",
    "    if s.endswith('ing'):\n",
    "        \n",
    "        s += 'ly'\n",
    "        \n",
    "    else :\n",
    "        \n",
    "        s += 'ing'\n",
    "            \n",
    "print(s)"
   ]
  },
  {
   "cell_type": "code",
   "execution_count": null,
   "id": "58b96af1",
   "metadata": {},
   "outputs": [],
   "source": []
  }
 ],
 "metadata": {
  "kernelspec": {
   "display_name": "Python 3 (ipykernel)",
   "language": "python",
   "name": "python3"
  },
  "language_info": {
   "codemirror_mode": {
    "name": "ipython",
    "version": 3
   },
   "file_extension": ".py",
   "mimetype": "text/x-python",
   "name": "python",
   "nbconvert_exporter": "python",
   "pygments_lexer": "ipython3",
   "version": "3.9.13"
  }
 },
 "nbformat": 4,
 "nbformat_minor": 5
}
